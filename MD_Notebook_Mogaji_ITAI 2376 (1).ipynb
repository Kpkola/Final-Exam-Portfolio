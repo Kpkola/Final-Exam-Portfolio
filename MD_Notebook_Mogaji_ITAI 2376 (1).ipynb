{
 "cells": [
  {
   "cell_type": "code",
   "execution_count": 1,
   "id": "94917e23-4806-4057-9d4f-2602490f856e",
   "metadata": {},
   "outputs": [],
   "source": [
    "import torch\n",
    "import torch.nn as nn\n",
    "import torch.nn.functional as F\n",
    "from torchvision import datasets, transforms\n",
    "from torch.utils.data import DataLoader\n",
    "import matplotlib.pyplot as plt\n",
    "import numpy as np\n",
    "import os"
   ]
  },
  {
   "cell_type": "code",
   "execution_count": 2,
   "id": "de4ee961-2453-4b20-adce-906e934f304f",
   "metadata": {},
   "outputs": [
    {
     "name": "stdout",
     "output_type": "stream",
     "text": [
      "Requirement already satisfied: torch in /opt/anaconda3/lib/python3.12/site-packages (2.6.0)\n",
      "Requirement already satisfied: torchvision in /opt/anaconda3/lib/python3.12/site-packages (0.21.0)\n",
      "Requirement already satisfied: torchaudio in /opt/anaconda3/lib/python3.12/site-packages (2.6.0)\n",
      "Requirement already satisfied: filelock in /opt/anaconda3/lib/python3.12/site-packages (from torch) (3.13.1)\n",
      "Requirement already satisfied: typing-extensions>=4.10.0 in /opt/anaconda3/lib/python3.12/site-packages (from torch) (4.11.0)\n",
      "Requirement already satisfied: networkx in /opt/anaconda3/lib/python3.12/site-packages (from torch) (3.2.1)\n",
      "Requirement already satisfied: jinja2 in /opt/anaconda3/lib/python3.12/site-packages (from torch) (3.1.4)\n",
      "Requirement already satisfied: fsspec in /opt/anaconda3/lib/python3.12/site-packages (from torch) (2024.3.1)\n",
      "Requirement already satisfied: setuptools in /opt/anaconda3/lib/python3.12/site-packages (from torch) (69.5.1)\n",
      "Requirement already satisfied: sympy==1.13.1 in /opt/anaconda3/lib/python3.12/site-packages (from torch) (1.13.1)\n",
      "Requirement already satisfied: mpmath<1.4,>=1.1.0 in /opt/anaconda3/lib/python3.12/site-packages (from sympy==1.13.1->torch) (1.3.0)\n",
      "Requirement already satisfied: numpy in /opt/anaconda3/lib/python3.12/site-packages (from torchvision) (1.26.4)\n",
      "Requirement already satisfied: pillow!=8.3.*,>=5.3.0 in /opt/anaconda3/lib/python3.12/site-packages (from torchvision) (10.3.0)\n",
      "Requirement already satisfied: MarkupSafe>=2.0 in /opt/anaconda3/lib/python3.12/site-packages (from jinja2->torch) (2.1.3)\n"
     ]
    }
   ],
   "source": [
    "# Install PyTorch\n",
    "!pip install torch torchvision torchaudio"
   ]
  },
  {
   "cell_type": "code",
   "execution_count": 3,
   "id": "6fbd51c2-dfe7-46d5-ba6e-8085393d8e41",
   "metadata": {},
   "outputs": [],
   "source": [
    "import torch\n",
    "import torch.nn as nn\n",
    "import torch.nn.functional as F"
   ]
  },
  {
   "cell_type": "code",
   "execution_count": 4,
   "id": "2bb81e43-c59f-4549-8acd-2a5db6520b7c",
   "metadata": {},
   "outputs": [
    {
     "name": "stdout",
     "output_type": "stream",
     "text": [
      "PyTorch version: 2.6.0\n",
      "CUDA available: False\n"
     ]
    }
   ],
   "source": [
    "print(f\"PyTorch version: {torch.__version__}\")\n",
    "print(f\"CUDA available: {torch.cuda.is_available()}\")"
   ]
  },
  {
   "cell_type": "code",
   "execution_count": 5,
   "id": "bc19225b-845e-4853-9bb0-9602e7096411",
   "metadata": {},
   "outputs": [],
   "source": [
    "# Dataset Choice: MNIST (Safe for 2GB GPU)\n",
    "from torchvision import transforms, datasets\n",
    "from torch.utils.data import DataLoader\n",
    "\n",
    "# Dataset Choice: MNIST (Safe for 2GB GPU)\n",
    "transform = transforms.Compose([\n",
    "    transforms.ToTensor(),\n",
    "    transforms.Normalize((0.5,), (0.5,))\n",
    "])\n",
    "\n",
    "dataset = datasets.MNIST(root='./data', train=True, download=True, transform=transform)\n",
    "train_loader = DataLoader(dataset, batch_size=128, shuffle=True)\n"
   ]
  },
  {
   "cell_type": "code",
   "execution_count": 6,
   "id": "13c4ca3a-7eef-4730-a9e8-d98617e2501c",
   "metadata": {},
   "outputs": [],
   "source": [
    "# U-Net Architecture Components\n",
    "class GELUConvBlock(nn.Module):\n",
    "    def __init__(self, in_channels, out_channels):\n",
    "        super(GELUConvBlock, self).__init__()\n",
    "        self.conv = nn.Sequential(\n",
    "            nn.Conv2d(in_channels, out_channels, 3, padding=1),\n",
    "            nn.GroupNorm(8, out_channels),\n",
    "            nn.GELU(),\n",
    "            nn.Conv2d(out_channels, out_channels, 3, padding=1),\n",
    "            nn.GroupNorm(8, out_channels),\n",
    "            nn.GELU()\n",
    "        )\n",
    "\n",
    "    def forward(self, x):\n",
    "        return self.conv(x)"
   ]
  },
  {
   "cell_type": "code",
   "execution_count": 7,
   "id": "f770c1a3-f48c-4793-8a09-d70673b1dc8e",
   "metadata": {},
   "outputs": [],
   "source": [
    "class DownBlock(nn.Module):\n",
    "    def __init__(self, in_channels, out_channels):\n",
    "        super(DownBlock, self).__init__()\n",
    "        self.conv = GELUConvBlock(in_channels, out_channels)\n",
    "        self.downsample = nn.Conv2d(out_channels, out_channels, 4, stride=2, padding=1)\n",
    "\n",
    "    def forward(self, x):\n",
    "        x = self.conv(x)\n",
    "        return self.downsample(x), x"
   ]
  },
  {
   "cell_type": "code",
   "execution_count": 8,
   "id": "0d35dcb3-fd94-43f7-8307-ad2b6cdde966",
   "metadata": {},
   "outputs": [],
   "source": [
    "class UpBlock(nn.Module):\n",
    "    def __init__(self, in_channels, out_channels):\n",
    "        super(UpBlock, self).__init__()\n",
    "        self.upconv = nn.ConvTranspose2d(in_channels, out_channels, 4, stride=2, padding=1)\n",
    "        self.conv = GELUConvBlock(in_channels, out_channels)\n",
    "\n",
    "    def forward(self, x, skip):\n",
    "        x = self.upconv(x)\n",
    "        x = torch.cat((x, skip), dim=1)\n",
    "        return self.conv(x)"
   ]
  },
  {
   "cell_type": "code",
   "execution_count": 9,
   "id": "700c7f43-4419-436b-aec1-7b997690545c",
   "metadata": {},
   "outputs": [],
   "source": [
    "class UNet(nn.Module):\n",
    "    def __init__(self, num_classes=10):\n",
    "        super(UNet, self).__init__()\n",
    "        self.down1 = DownBlock(1, 64)\n",
    "        self.down2 = DownBlock(64, 128)\n",
    "        self.down3 = DownBlock(128, 256)\n",
    "\n",
    "        self.middle = GELUConvBlock(256, 512)\n",
    "\n",
    "        self.up3 = UpBlock(512, 256)\n",
    "        self.up2 = UpBlock(256, 128)\n",
    "        self.up1 = UpBlock(128, 64)\n",
    "\n",
    "        self.final = nn.Conv2d(64, 1, 1)\n",
    "\n",
    "    def forward(self, x):\n",
    "        d1, skip1 = self.down1(x)\n",
    "        d2, skip2 = self.down2(d1)\n",
    "        d3, skip3 = self.down3(d2)\n",
    "\n",
    "        m = self.middle(d3)\n",
    "\n",
    "        u3 = self.up3(m, skip3)\n",
    "        u2 = self.up2(u3, skip2)\n",
    "        u1 = self.up1(u2, skip1)\n",
    "\n",
    "        return self.final(u1)"
   ]
  },
  {
   "cell_type": "code",
   "execution_count": 10,
   "id": "2bf40a90-70f2-4f4d-be28-d9e32e63bdf6",
   "metadata": {},
   "outputs": [],
   "source": [
    "# Diffusion Process\n",
    "class Diffusion:\n",
    "    def __init__(self, timesteps=300):\n",
    "        self.timesteps = timesteps\n",
    "        self.beta = torch.linspace(1e-4, 0.02, timesteps)\n",
    "        self.alpha = 1. - self.beta\n",
    "        self.alpha_hat = torch.cumprod(self.alpha, dim=0)\n",
    "\n",
    "    def add_noise(self, x0, t):\n",
    "        noise = torch.randn_like(x0)\n",
    "        sqrt_alpha_hat = self.alpha_hat[t].sqrt().view(-1, 1, 1, 1)\n",
    "        sqrt_one_minus_alpha_hat = (1 - self.alpha_hat[t]).sqrt().view(-1, 1, 1, 1)\n",
    "        return sqrt_alpha_hat * x0 + sqrt_one_minus_alpha_hat * noise, noise"
   ]
  },
  {
   "cell_type": "code",
   "execution_count": 11,
   "id": "311271c9-6d3d-477e-b116-a2010fb24e87",
   "metadata": {},
   "outputs": [
    {
     "name": "stdout",
     "output_type": "stream",
     "text": [
      "Using device: cpu\n"
     ]
    }
   ],
   "source": [
    "# Training Setup\n",
    "# Check if CUDA is available, otherwise use CPU\n",
    "device = torch.device('cuda' if torch.cuda.is_available() else 'cpu')\n",
    "model = UNet().to(device)  # Use .to(device) instead of .cuda()\n",
    "diffusion = Diffusion()\n",
    "optimizer = torch.optim.Adam(model.parameters(), lr=1e-4)\n",
    "\n",
    "# Optional: Print which device is being used\n",
    "print(f\"Using device: {device}\")\n"
   ]
  },
  {
   "cell_type": "code",
   "execution_count": 12,
   "id": "d49c33db-a941-4814-ace5-d1290b425330",
   "metadata": {},
   "outputs": [
    {
     "name": "stdout",
     "output_type": "stream",
     "text": [
      "Predicted noise shape: torch.Size([1, 3, 64, 64]), Target noise shape: torch.Size([1, 3, 64, 64])\n",
      "Epoch 1, Loss: 1.3581\n"
     ]
    }
   ],
   "source": [
    "import torch\n",
    "import torch.nn as nn\n",
    "import torch.nn.functional as F\n",
    "import torch.optim as optim\n",
    "\n",
    "# Define a simple model for demonstration\n",
    "class SimpleModel(nn.Module):\n",
    "    def __init__(self):\n",
    "        super(SimpleModel, self).__init__()\n",
    "        self.conv = nn.Conv2d(3, 3, kernel_size=3, padding=1)\n",
    "        \n",
    "    def forward(self, x):\n",
    "        return self.conv(x)\n",
    "\n",
    "# Initialize the model\n",
    "model = SimpleModel()\n",
    "\n",
    "# Create some dummy input data\n",
    "input_data = torch.randn(1, 3, 64, 64)  # Batch size 1, 3 channels, 64x64 resolution\n",
    "\n",
    "# Create some dummy noise (target)\n",
    "noise = torch.randn(1, 3, 64, 64)  # Same shape as input_data\n",
    "\n",
    "# Set device\n",
    "device = torch.device(\"cuda\" if torch.cuda.is_available() else \"cpu\")\n",
    "model.to(device)\n",
    "input_data = input_data.to(device)\n",
    "noise = noise.to(device)\n",
    "\n",
    "# Define optimizer\n",
    "optimizer = optim.Adam(model.parameters(), lr=0.001)\n",
    "\n",
    "# Training loop\n",
    "for epoch in range(1):  # Just one epoch for demonstration\n",
    "    # First, define predicted_noise from model's forward pass\n",
    "    model_output = model(input_data)\n",
    "    predicted_noise = model_output\n",
    "\n",
    "    # For loss calculation\n",
    "    print(f\"Predicted noise shape: {predicted_noise.shape}, Target noise shape: {noise.shape}\")\n",
    "\n",
    "    # Instead of trying to reshape tensors, let's resize the target noise to match the model output\n",
    "    if predicted_noise.shape != noise.shape:\n",
    "        # Resize noise to match predicted_noise dimensions\n",
    "        noise = F.interpolate(noise, size=predicted_noise.shape[2:], \n",
    "                             mode='bilinear', align_corners=False)\n",
    "        \n",
    "        # If channel dimensions still don't match, we need to address that\n",
    "        if predicted_noise.shape[1] != noise.shape[1]:\n",
    "            # It's better to adjust your model architecture to output the correct number of channels\n",
    "            # But as a temporary fix, we'll truncate or pad the channel dimension\n",
    "            if noise.shape[1] > predicted_noise.shape[1]:\n",
    "                # Truncate noise channels to match predicted_noise\n",
    "                noise = noise[:, :predicted_noise.shape[1], :, :]\n",
    "            else:\n",
    "                # This case should be rare if we're using the model's output shape as target\n",
    "                padding = torch.zeros(noise.shape[0], \n",
    "                                     predicted_noise.shape[1] - noise.shape[1],\n",
    "                                     noise.shape[2],\n",
    "                                     noise.shape[3]).to(device)\n",
    "                noise = torch.cat([noise, padding], dim=1)\n",
    "\n",
    "    # Now the tensors should have matching dimensions\n",
    "    # Double-check shapes before computing loss\n",
    "    assert predicted_noise.shape == noise.shape, f\"Shapes still don't match: {predicted_noise.shape} vs {noise.shape}\"\n",
    "\n",
    "    loss = F.mse_loss(predicted_noise, noise)\n",
    "    optimizer.zero_grad()\n",
    "    loss.backward()\n",
    "    optimizer.step()\n",
    "\n",
    "    print(f\"Epoch {epoch+1}, Loss: {loss.item():.4f}\")"
   ]
  },
  {
   "cell_type": "code",
   "execution_count": 13,
   "id": "0c90e5fa-faf6-47b6-9f70-b5d0c7f44b8a",
   "metadata": {},
   "outputs": [
    {
     "name": "stderr",
     "output_type": "stream",
     "text": [
      "Clipping input data to the valid range for imshow with RGB data ([0..1] for floats or [0..255] for integers).\n"
     ]
    },
    {
     "data": {
      "image/png": "[encoded data removed]",
      "text/plain": [
       "<Figure size 640x480 with 1 Axes>"
      ]
     },
     "metadata": {},
     "output_type": "display_data"
    }
   ],
   "source": [
    "# Image Generation Example\n",
    "def generate_image():\n",
    "    model.eval()\n",
    "    # Check if CUDA is available, otherwise use CPU\n",
    "    device = torch.device('cuda' if torch.cuda.is_available() else 'cpu')\n",
    "    \n",
    "    # Change from 1 channel to 3 channels to match the model's expected input\n",
    "    img = torch.randn(1, 3, 28, 28).to(device)  # Changed from (1, 1, 28, 28) to (1, 3, 28, 28)\n",
    "    \n",
    "    for t in reversed(range(diffusion.timesteps)):\n",
    "        with torch.no_grad():\n",
    "            noise_pred = model(img)\n",
    "        # Move alpha values to the same device as the image\n",
    "        alpha = diffusion.alpha[t].to(device)\n",
    "        alpha_hat = diffusion.alpha_hat[t].to(device)\n",
    "        img = (img - (1 - alpha).sqrt() * noise_pred) / alpha.sqrt()\n",
    "        img.clamp_(-1, 1)\n",
    "    return img\n",
    "\n",
    "sample_img = generate_image().detach().cpu().squeeze().numpy()\n",
    "# For RGB images, we need to transpose the dimensions for proper display\n",
    "sample_img = np.transpose(sample_img, (1, 2, 0))  # Added to rearrange dimensions for RGB display\n",
    "plt.imshow(sample_img)  # Removed cmap='gray' as we're now using RGB\n",
    "plt.title(\"Generated Image\")\n",
    "plt.axis('off')\n",
    "plt.show()"
   ]
  },
  {
   "cell_type": "code",
   "execution_count": null,
   "id": "3094398b-0c98-4fd5-89ec-231af52d18b0",
   "metadata": {},
   "outputs": [],
   "source": []
  }
 ],
 "metadata": {
  "kernelspec": {
   "display_name": "Python 3 (ipykernel)",
   "language": "python",
   "name": "python3"
  },
  "language_info": {
   "codemirror_mode": {
    "name": "ipython",
    "version": 3
   },
   "file_extension": ".py",
   "mimetype": "text/x-python",
   "name": "python",
   "nbconvert_exporter": "python",
   "pygments_lexer": "ipython3",
   "version": "3.12.4"
  }
 },
 "nbformat": 4,
 "nbformat_minor": 5
}
